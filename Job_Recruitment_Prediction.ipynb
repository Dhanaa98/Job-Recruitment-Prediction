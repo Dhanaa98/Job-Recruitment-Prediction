{
 "cells": [
  {
   "cell_type": "markdown",
   "id": "dd39b01c-e979-43cd-b66d-bcf3e9af237d",
   "metadata": {},
   "source": [
    "### Importing the Dependencies"
   ]
  },
  {
   "cell_type": "code",
   "execution_count": 1,
   "id": "204b2765-2d95-4548-a760-5fa46ec3ad63",
   "metadata": {},
   "outputs": [],
   "source": [
    "import pandas as pd\n",
    "import numpy as np\n",
    "import matplotlib.pyplot as plt\n",
    "import seaborn as sns"
   ]
  },
  {
   "cell_type": "markdown",
   "id": "90b5869b-f694-471f-b367-6673c65e2387",
   "metadata": {},
   "source": [
    "### Loading Data"
   ]
  },
  {
   "cell_type": "code",
   "execution_count": 2,
   "id": "740b4018-db54-4a7f-8d6b-efd819bbb792",
   "metadata": {},
   "outputs": [
    {
     "data": {
      "text/html": [
       "<div>\n",
       "<style scoped>\n",
       "    .dataframe tbody tr th:only-of-type {\n",
       "        vertical-align: middle;\n",
       "    }\n",
       "\n",
       "    .dataframe tbody tr th {\n",
       "        vertical-align: top;\n",
       "    }\n",
       "\n",
       "    .dataframe thead th {\n",
       "        text-align: right;\n",
       "    }\n",
       "</style>\n",
       "<table border=\"1\" class=\"dataframe\">\n",
       "  <thead>\n",
       "    <tr style=\"text-align: right;\">\n",
       "      <th></th>\n",
       "      <th>Age</th>\n",
       "      <th>Gender</th>\n",
       "      <th>EducationLevel</th>\n",
       "      <th>ExperienceYears</th>\n",
       "      <th>PreviousCompanies</th>\n",
       "      <th>DistanceFromCompany</th>\n",
       "      <th>InterviewScore</th>\n",
       "      <th>SkillScore</th>\n",
       "      <th>PersonalityScore</th>\n",
       "      <th>RecruitmentStrategy</th>\n",
       "      <th>HiringDecision</th>\n",
       "    </tr>\n",
       "  </thead>\n",
       "  <tbody>\n",
       "    <tr>\n",
       "      <th>0</th>\n",
       "      <td>26</td>\n",
       "      <td>1</td>\n",
       "      <td>2</td>\n",
       "      <td>0</td>\n",
       "      <td>3</td>\n",
       "      <td>26.783828</td>\n",
       "      <td>48</td>\n",
       "      <td>78</td>\n",
       "      <td>91</td>\n",
       "      <td>1</td>\n",
       "      <td>1</td>\n",
       "    </tr>\n",
       "    <tr>\n",
       "      <th>1</th>\n",
       "      <td>39</td>\n",
       "      <td>1</td>\n",
       "      <td>4</td>\n",
       "      <td>12</td>\n",
       "      <td>3</td>\n",
       "      <td>25.862694</td>\n",
       "      <td>35</td>\n",
       "      <td>68</td>\n",
       "      <td>80</td>\n",
       "      <td>2</td>\n",
       "      <td>1</td>\n",
       "    </tr>\n",
       "    <tr>\n",
       "      <th>2</th>\n",
       "      <td>48</td>\n",
       "      <td>0</td>\n",
       "      <td>2</td>\n",
       "      <td>3</td>\n",
       "      <td>2</td>\n",
       "      <td>9.920805</td>\n",
       "      <td>20</td>\n",
       "      <td>67</td>\n",
       "      <td>13</td>\n",
       "      <td>2</td>\n",
       "      <td>0</td>\n",
       "    </tr>\n",
       "    <tr>\n",
       "      <th>3</th>\n",
       "      <td>34</td>\n",
       "      <td>1</td>\n",
       "      <td>2</td>\n",
       "      <td>5</td>\n",
       "      <td>2</td>\n",
       "      <td>6.407751</td>\n",
       "      <td>36</td>\n",
       "      <td>27</td>\n",
       "      <td>70</td>\n",
       "      <td>3</td>\n",
       "      <td>0</td>\n",
       "    </tr>\n",
       "    <tr>\n",
       "      <th>4</th>\n",
       "      <td>30</td>\n",
       "      <td>0</td>\n",
       "      <td>1</td>\n",
       "      <td>6</td>\n",
       "      <td>1</td>\n",
       "      <td>43.105343</td>\n",
       "      <td>23</td>\n",
       "      <td>52</td>\n",
       "      <td>85</td>\n",
       "      <td>2</td>\n",
       "      <td>0</td>\n",
       "    </tr>\n",
       "    <tr>\n",
       "      <th>...</th>\n",
       "      <td>...</td>\n",
       "      <td>...</td>\n",
       "      <td>...</td>\n",
       "      <td>...</td>\n",
       "      <td>...</td>\n",
       "      <td>...</td>\n",
       "      <td>...</td>\n",
       "      <td>...</td>\n",
       "      <td>...</td>\n",
       "      <td>...</td>\n",
       "      <td>...</td>\n",
       "    </tr>\n",
       "    <tr>\n",
       "      <th>1495</th>\n",
       "      <td>48</td>\n",
       "      <td>0</td>\n",
       "      <td>2</td>\n",
       "      <td>3</td>\n",
       "      <td>4</td>\n",
       "      <td>9.183783</td>\n",
       "      <td>66</td>\n",
       "      <td>3</td>\n",
       "      <td>80</td>\n",
       "      <td>3</td>\n",
       "      <td>1</td>\n",
       "    </tr>\n",
       "    <tr>\n",
       "      <th>1496</th>\n",
       "      <td>27</td>\n",
       "      <td>1</td>\n",
       "      <td>2</td>\n",
       "      <td>10</td>\n",
       "      <td>3</td>\n",
       "      <td>14.847731</td>\n",
       "      <td>43</td>\n",
       "      <td>97</td>\n",
       "      <td>7</td>\n",
       "      <td>2</td>\n",
       "      <td>0</td>\n",
       "    </tr>\n",
       "    <tr>\n",
       "      <th>1497</th>\n",
       "      <td>24</td>\n",
       "      <td>1</td>\n",
       "      <td>1</td>\n",
       "      <td>1</td>\n",
       "      <td>2</td>\n",
       "      <td>4.289911</td>\n",
       "      <td>31</td>\n",
       "      <td>91</td>\n",
       "      <td>58</td>\n",
       "      <td>1</td>\n",
       "      <td>1</td>\n",
       "    </tr>\n",
       "    <tr>\n",
       "      <th>1498</th>\n",
       "      <td>48</td>\n",
       "      <td>0</td>\n",
       "      <td>2</td>\n",
       "      <td>4</td>\n",
       "      <td>4</td>\n",
       "      <td>36.299263</td>\n",
       "      <td>9</td>\n",
       "      <td>37</td>\n",
       "      <td>44</td>\n",
       "      <td>2</td>\n",
       "      <td>1</td>\n",
       "    </tr>\n",
       "    <tr>\n",
       "      <th>1499</th>\n",
       "      <td>34</td>\n",
       "      <td>1</td>\n",
       "      <td>2</td>\n",
       "      <td>11</td>\n",
       "      <td>5</td>\n",
       "      <td>12.910472</td>\n",
       "      <td>63</td>\n",
       "      <td>40</td>\n",
       "      <td>26</td>\n",
       "      <td>2</td>\n",
       "      <td>1</td>\n",
       "    </tr>\n",
       "  </tbody>\n",
       "</table>\n",
       "<p>1500 rows × 11 columns</p>\n",
       "</div>"
      ],
      "text/plain": [
       "      Age  Gender  EducationLevel  ExperienceYears  PreviousCompanies  \\\n",
       "0      26       1               2                0                  3   \n",
       "1      39       1               4               12                  3   \n",
       "2      48       0               2                3                  2   \n",
       "3      34       1               2                5                  2   \n",
       "4      30       0               1                6                  1   \n",
       "...   ...     ...             ...              ...                ...   \n",
       "1495   48       0               2                3                  4   \n",
       "1496   27       1               2               10                  3   \n",
       "1497   24       1               1                1                  2   \n",
       "1498   48       0               2                4                  4   \n",
       "1499   34       1               2               11                  5   \n",
       "\n",
       "      DistanceFromCompany  InterviewScore  SkillScore  PersonalityScore  \\\n",
       "0               26.783828              48          78                91   \n",
       "1               25.862694              35          68                80   \n",
       "2                9.920805              20          67                13   \n",
       "3                6.407751              36          27                70   \n",
       "4               43.105343              23          52                85   \n",
       "...                   ...             ...         ...               ...   \n",
       "1495             9.183783              66           3                80   \n",
       "1496            14.847731              43          97                 7   \n",
       "1497             4.289911              31          91                58   \n",
       "1498            36.299263               9          37                44   \n",
       "1499            12.910472              63          40                26   \n",
       "\n",
       "      RecruitmentStrategy  HiringDecision  \n",
       "0                       1               1  \n",
       "1                       2               1  \n",
       "2                       2               0  \n",
       "3                       3               0  \n",
       "4                       2               0  \n",
       "...                   ...             ...  \n",
       "1495                    3               1  \n",
       "1496                    2               0  \n",
       "1497                    1               1  \n",
       "1498                    2               1  \n",
       "1499                    2               1  \n",
       "\n",
       "[1500 rows x 11 columns]"
      ]
     },
     "execution_count": 2,
     "metadata": {},
     "output_type": "execute_result"
    }
   ],
   "source": [
    "df = pd.read_csv(r\"C:\\Users\\PC User\\Desktop\\Me\\DATA ANALYSIS\\_PROJECTS\\_PRACTICE\\ML\\recruitment_data.csv\")\n",
    "df"
   ]
  },
  {
   "cell_type": "code",
   "execution_count": 3,
   "id": "226fedbb-a903-489e-931f-099560ef47a9",
   "metadata": {},
   "outputs": [
    {
     "data": {
      "text/plain": [
       "(1500, 11)"
      ]
     },
     "execution_count": 3,
     "metadata": {},
     "output_type": "execute_result"
    }
   ],
   "source": [
    "df.shape"
   ]
  },
  {
   "cell_type": "code",
   "execution_count": 4,
   "id": "35883057-fa5d-4264-b530-6d42aa5b8104",
   "metadata": {},
   "outputs": [
    {
     "name": "stdout",
     "output_type": "stream",
     "text": [
      "<class 'pandas.core.frame.DataFrame'>\n",
      "RangeIndex: 1500 entries, 0 to 1499\n",
      "Data columns (total 11 columns):\n",
      " #   Column               Non-Null Count  Dtype  \n",
      "---  ------               --------------  -----  \n",
      " 0   Age                  1500 non-null   int64  \n",
      " 1   Gender               1500 non-null   int64  \n",
      " 2   EducationLevel       1500 non-null   int64  \n",
      " 3   ExperienceYears      1500 non-null   int64  \n",
      " 4   PreviousCompanies    1500 non-null   int64  \n",
      " 5   DistanceFromCompany  1500 non-null   float64\n",
      " 6   InterviewScore       1500 non-null   int64  \n",
      " 7   SkillScore           1500 non-null   int64  \n",
      " 8   PersonalityScore     1500 non-null   int64  \n",
      " 9   RecruitmentStrategy  1500 non-null   int64  \n",
      " 10  HiringDecision       1500 non-null   int64  \n",
      "dtypes: float64(1), int64(10)\n",
      "memory usage: 129.0 KB\n"
     ]
    }
   ],
   "source": [
    "df.info()"
   ]
  },
  {
   "cell_type": "code",
   "execution_count": 10,
   "id": "c64d013a-9853-4f6c-a845-6ed82ac024cd",
   "metadata": {},
   "outputs": [
    {
     "data": {
      "text/plain": [
       "Age                    0\n",
       "Gender                 0\n",
       "EducationLevel         0\n",
       "ExperienceYears        0\n",
       "PreviousCompanies      0\n",
       "DistanceFromCompany    0\n",
       "InterviewScore         0\n",
       "SkillScore             0\n",
       "PersonalityScore       0\n",
       "RecruitmentStrategy    0\n",
       "HiringDecision         0\n",
       "dtype: int64"
      ]
     },
     "execution_count": 10,
     "metadata": {},
     "output_type": "execute_result"
    }
   ],
   "source": [
    "df.isnull().sum()"
   ]
  },
  {
   "cell_type": "code",
   "execution_count": 12,
   "id": "4f992880-cbc8-4012-9141-e9a26ed480d3",
   "metadata": {},
   "outputs": [
    {
     "data": {
      "text/html": [
       "<div>\n",
       "<style scoped>\n",
       "    .dataframe tbody tr th:only-of-type {\n",
       "        vertical-align: middle;\n",
       "    }\n",
       "\n",
       "    .dataframe tbody tr th {\n",
       "        vertical-align: top;\n",
       "    }\n",
       "\n",
       "    .dataframe thead th {\n",
       "        text-align: right;\n",
       "    }\n",
       "</style>\n",
       "<table border=\"1\" class=\"dataframe\">\n",
       "  <thead>\n",
       "    <tr style=\"text-align: right;\">\n",
       "      <th></th>\n",
       "      <th>Age</th>\n",
       "      <th>Gender</th>\n",
       "      <th>EducationLevel</th>\n",
       "      <th>ExperienceYears</th>\n",
       "      <th>PreviousCompanies</th>\n",
       "      <th>DistanceFromCompany</th>\n",
       "      <th>InterviewScore</th>\n",
       "      <th>SkillScore</th>\n",
       "      <th>PersonalityScore</th>\n",
       "      <th>RecruitmentStrategy</th>\n",
       "      <th>HiringDecision</th>\n",
       "    </tr>\n",
       "  </thead>\n",
       "  <tbody>\n",
       "  </tbody>\n",
       "</table>\n",
       "</div>"
      ],
      "text/plain": [
       "Empty DataFrame\n",
       "Columns: [Age, Gender, EducationLevel, ExperienceYears, PreviousCompanies, DistanceFromCompany, InterviewScore, SkillScore, PersonalityScore, RecruitmentStrategy, HiringDecision]\n",
       "Index: []"
      ]
     },
     "execution_count": 12,
     "metadata": {},
     "output_type": "execute_result"
    }
   ],
   "source": [
    "df.loc[df.duplicated()]"
   ]
  },
  {
   "cell_type": "code",
   "execution_count": 13,
   "id": "5024550d-1f1c-4abc-9223-a17889022cd1",
   "metadata": {},
   "outputs": [
    {
     "data": {
      "text/html": [
       "<div>\n",
       "<style scoped>\n",
       "    .dataframe tbody tr th:only-of-type {\n",
       "        vertical-align: middle;\n",
       "    }\n",
       "\n",
       "    .dataframe tbody tr th {\n",
       "        vertical-align: top;\n",
       "    }\n",
       "\n",
       "    .dataframe thead th {\n",
       "        text-align: right;\n",
       "    }\n",
       "</style>\n",
       "<table border=\"1\" class=\"dataframe\">\n",
       "  <thead>\n",
       "    <tr style=\"text-align: right;\">\n",
       "      <th></th>\n",
       "      <th>Age</th>\n",
       "      <th>Gender</th>\n",
       "      <th>EducationLevel</th>\n",
       "      <th>ExperienceYears</th>\n",
       "      <th>PreviousCompanies</th>\n",
       "      <th>DistanceFromCompany</th>\n",
       "      <th>InterviewScore</th>\n",
       "      <th>SkillScore</th>\n",
       "      <th>PersonalityScore</th>\n",
       "      <th>RecruitmentStrategy</th>\n",
       "      <th>HiringDecision</th>\n",
       "    </tr>\n",
       "  </thead>\n",
       "  <tbody>\n",
       "    <tr>\n",
       "      <th>Age</th>\n",
       "      <td>1.000000</td>\n",
       "      <td>0.011286</td>\n",
       "      <td>0.032610</td>\n",
       "      <td>0.024780</td>\n",
       "      <td>-0.032580</td>\n",
       "      <td>-0.021031</td>\n",
       "      <td>-0.025579</td>\n",
       "      <td>-0.008068</td>\n",
       "      <td>0.037727</td>\n",
       "      <td>0.018064</td>\n",
       "      <td>0.001850</td>\n",
       "    </tr>\n",
       "    <tr>\n",
       "      <th>Gender</th>\n",
       "      <td>0.011286</td>\n",
       "      <td>1.000000</td>\n",
       "      <td>0.009676</td>\n",
       "      <td>-0.028502</td>\n",
       "      <td>-0.061915</td>\n",
       "      <td>0.003822</td>\n",
       "      <td>-0.020887</td>\n",
       "      <td>0.012333</td>\n",
       "      <td>0.023729</td>\n",
       "      <td>-0.023753</td>\n",
       "      <td>-0.002249</td>\n",
       "    </tr>\n",
       "    <tr>\n",
       "      <th>EducationLevel</th>\n",
       "      <td>0.032610</td>\n",
       "      <td>0.009676</td>\n",
       "      <td>1.000000</td>\n",
       "      <td>-0.000951</td>\n",
       "      <td>0.007367</td>\n",
       "      <td>0.020600</td>\n",
       "      <td>0.012807</td>\n",
       "      <td>-0.043367</td>\n",
       "      <td>0.031115</td>\n",
       "      <td>-0.036923</td>\n",
       "      <td>0.236710</td>\n",
       "    </tr>\n",
       "    <tr>\n",
       "      <th>ExperienceYears</th>\n",
       "      <td>0.024780</td>\n",
       "      <td>-0.028502</td>\n",
       "      <td>-0.000951</td>\n",
       "      <td>1.000000</td>\n",
       "      <td>0.015784</td>\n",
       "      <td>0.007920</td>\n",
       "      <td>-0.051701</td>\n",
       "      <td>0.006323</td>\n",
       "      <td>0.013891</td>\n",
       "      <td>0.029603</td>\n",
       "      <td>0.122494</td>\n",
       "    </tr>\n",
       "    <tr>\n",
       "      <th>PreviousCompanies</th>\n",
       "      <td>-0.032580</td>\n",
       "      <td>-0.061915</td>\n",
       "      <td>0.007367</td>\n",
       "      <td>0.015784</td>\n",
       "      <td>1.000000</td>\n",
       "      <td>0.009187</td>\n",
       "      <td>-0.008387</td>\n",
       "      <td>0.040883</td>\n",
       "      <td>-0.024572</td>\n",
       "      <td>-0.000466</td>\n",
       "      <td>0.044025</td>\n",
       "    </tr>\n",
       "    <tr>\n",
       "      <th>DistanceFromCompany</th>\n",
       "      <td>-0.021031</td>\n",
       "      <td>0.003822</td>\n",
       "      <td>0.020600</td>\n",
       "      <td>0.007920</td>\n",
       "      <td>0.009187</td>\n",
       "      <td>1.000000</td>\n",
       "      <td>-0.019594</td>\n",
       "      <td>-0.016891</td>\n",
       "      <td>0.004627</td>\n",
       "      <td>-0.007315</td>\n",
       "      <td>-0.016791</td>\n",
       "    </tr>\n",
       "    <tr>\n",
       "      <th>InterviewScore</th>\n",
       "      <td>-0.025579</td>\n",
       "      <td>-0.020887</td>\n",
       "      <td>0.012807</td>\n",
       "      <td>-0.051701</td>\n",
       "      <td>-0.008387</td>\n",
       "      <td>-0.019594</td>\n",
       "      <td>1.000000</td>\n",
       "      <td>-0.004887</td>\n",
       "      <td>-0.027967</td>\n",
       "      <td>0.012004</td>\n",
       "      <td>0.146064</td>\n",
       "    </tr>\n",
       "    <tr>\n",
       "      <th>SkillScore</th>\n",
       "      <td>-0.008068</td>\n",
       "      <td>0.012333</td>\n",
       "      <td>-0.043367</td>\n",
       "      <td>0.006323</td>\n",
       "      <td>0.040883</td>\n",
       "      <td>-0.016891</td>\n",
       "      <td>-0.004887</td>\n",
       "      <td>1.000000</td>\n",
       "      <td>-0.004266</td>\n",
       "      <td>-0.031189</td>\n",
       "      <td>0.203668</td>\n",
       "    </tr>\n",
       "    <tr>\n",
       "      <th>PersonalityScore</th>\n",
       "      <td>0.037727</td>\n",
       "      <td>0.023729</td>\n",
       "      <td>0.031115</td>\n",
       "      <td>0.013891</td>\n",
       "      <td>-0.024572</td>\n",
       "      <td>0.004627</td>\n",
       "      <td>-0.027967</td>\n",
       "      <td>-0.004266</td>\n",
       "      <td>1.000000</td>\n",
       "      <td>0.004712</td>\n",
       "      <td>0.169177</td>\n",
       "    </tr>\n",
       "    <tr>\n",
       "      <th>RecruitmentStrategy</th>\n",
       "      <td>0.018064</td>\n",
       "      <td>-0.023753</td>\n",
       "      <td>-0.036923</td>\n",
       "      <td>0.029603</td>\n",
       "      <td>-0.000466</td>\n",
       "      <td>-0.007315</td>\n",
       "      <td>0.012004</td>\n",
       "      <td>-0.031189</td>\n",
       "      <td>0.004712</td>\n",
       "      <td>1.000000</td>\n",
       "      <td>-0.477552</td>\n",
       "    </tr>\n",
       "    <tr>\n",
       "      <th>HiringDecision</th>\n",
       "      <td>0.001850</td>\n",
       "      <td>-0.002249</td>\n",
       "      <td>0.236710</td>\n",
       "      <td>0.122494</td>\n",
       "      <td>0.044025</td>\n",
       "      <td>-0.016791</td>\n",
       "      <td>0.146064</td>\n",
       "      <td>0.203668</td>\n",
       "      <td>0.169177</td>\n",
       "      <td>-0.477552</td>\n",
       "      <td>1.000000</td>\n",
       "    </tr>\n",
       "  </tbody>\n",
       "</table>\n",
       "</div>"
      ],
      "text/plain": [
       "                          Age    Gender  EducationLevel  ExperienceYears  \\\n",
       "Age                  1.000000  0.011286        0.032610         0.024780   \n",
       "Gender               0.011286  1.000000        0.009676        -0.028502   \n",
       "EducationLevel       0.032610  0.009676        1.000000        -0.000951   \n",
       "ExperienceYears      0.024780 -0.028502       -0.000951         1.000000   \n",
       "PreviousCompanies   -0.032580 -0.061915        0.007367         0.015784   \n",
       "DistanceFromCompany -0.021031  0.003822        0.020600         0.007920   \n",
       "InterviewScore      -0.025579 -0.020887        0.012807        -0.051701   \n",
       "SkillScore          -0.008068  0.012333       -0.043367         0.006323   \n",
       "PersonalityScore     0.037727  0.023729        0.031115         0.013891   \n",
       "RecruitmentStrategy  0.018064 -0.023753       -0.036923         0.029603   \n",
       "HiringDecision       0.001850 -0.002249        0.236710         0.122494   \n",
       "\n",
       "                     PreviousCompanies  DistanceFromCompany  InterviewScore  \\\n",
       "Age                          -0.032580            -0.021031       -0.025579   \n",
       "Gender                       -0.061915             0.003822       -0.020887   \n",
       "EducationLevel                0.007367             0.020600        0.012807   \n",
       "ExperienceYears               0.015784             0.007920       -0.051701   \n",
       "PreviousCompanies             1.000000             0.009187       -0.008387   \n",
       "DistanceFromCompany           0.009187             1.000000       -0.019594   \n",
       "InterviewScore               -0.008387            -0.019594        1.000000   \n",
       "SkillScore                    0.040883            -0.016891       -0.004887   \n",
       "PersonalityScore             -0.024572             0.004627       -0.027967   \n",
       "RecruitmentStrategy          -0.000466            -0.007315        0.012004   \n",
       "HiringDecision                0.044025            -0.016791        0.146064   \n",
       "\n",
       "                     SkillScore  PersonalityScore  RecruitmentStrategy  \\\n",
       "Age                   -0.008068          0.037727             0.018064   \n",
       "Gender                 0.012333          0.023729            -0.023753   \n",
       "EducationLevel        -0.043367          0.031115            -0.036923   \n",
       "ExperienceYears        0.006323          0.013891             0.029603   \n",
       "PreviousCompanies      0.040883         -0.024572            -0.000466   \n",
       "DistanceFromCompany   -0.016891          0.004627            -0.007315   \n",
       "InterviewScore        -0.004887         -0.027967             0.012004   \n",
       "SkillScore             1.000000         -0.004266            -0.031189   \n",
       "PersonalityScore      -0.004266          1.000000             0.004712   \n",
       "RecruitmentStrategy   -0.031189          0.004712             1.000000   \n",
       "HiringDecision         0.203668          0.169177            -0.477552   \n",
       "\n",
       "                     HiringDecision  \n",
       "Age                        0.001850  \n",
       "Gender                    -0.002249  \n",
       "EducationLevel             0.236710  \n",
       "ExperienceYears            0.122494  \n",
       "PreviousCompanies          0.044025  \n",
       "DistanceFromCompany       -0.016791  \n",
       "InterviewScore             0.146064  \n",
       "SkillScore                 0.203668  \n",
       "PersonalityScore           0.169177  \n",
       "RecruitmentStrategy       -0.477552  \n",
       "HiringDecision             1.000000  "
      ]
     },
     "execution_count": 13,
     "metadata": {},
     "output_type": "execute_result"
    }
   ],
   "source": [
    "df.corr()\n"
   ]
  },
  {
   "cell_type": "code",
   "execution_count": 17,
   "id": "b7ce206a-b484-4491-be19-2525b30c48a9",
   "metadata": {},
   "outputs": [
    {
     "data": {
      "image/png": "[encoded data removed]",
      "text/plain": [
       "<Figure size 1000x1000 with 2 Axes>"
      ]
     },
     "metadata": {},
     "output_type": "display_data"
    }
   ],
   "source": [
    "corr_matrix = df.corr()\n",
    "plt.figure(figsize=(10,10))\n",
    "sns.heatmap(corr_matrix, cmap = 'Greens', annot = True)\n",
    "plt.tight_layout()\n",
    "plt.title('Correlation Matrix')\n",
    "plt.show()"
   ]
  },
  {
   "cell_type": "markdown",
   "id": "99954c57-f3f4-4bf2-baea-eb3115190e86",
   "metadata": {},
   "source": [
    "## Data Preparation"
   ]
  },
  {
   "cell_type": "markdown",
   "id": "c2e585aa-acde-4763-83ad-fab9cae2dabe",
   "metadata": {},
   "source": [
    "### Data Separation as X and y"
   ]
  },
  {
   "cell_type": "code",
   "execution_count": 18,
   "id": "ec112fb6-3aa3-45c7-9e66-1c5a4150d31c",
   "metadata": {},
   "outputs": [],
   "source": [
    "from sklearn.model_selection import train_test_split"
   ]
  },
  {
   "cell_type": "code",
   "execution_count": 19,
   "id": "0ef8f1b1-338f-4d20-99af-6f6d4f58d0f3",
   "metadata": {},
   "outputs": [],
   "source": [
    "X = df.drop(columns = 'HiringDecision', axis = 1)\n",
    "y = df['HiringDecision']"
   ]
  },
  {
   "cell_type": "code",
   "execution_count": 22,
   "id": "a88c994f-891d-4945-a592-9ea4790912da",
   "metadata": {},
   "outputs": [
    {
     "name": "stdout",
     "output_type": "stream",
     "text": [
      "      Age  Gender  EducationLevel  ExperienceYears  PreviousCompanies  \\\n",
      "0      26       1               2                0                  3   \n",
      "1      39       1               4               12                  3   \n",
      "2      48       0               2                3                  2   \n",
      "3      34       1               2                5                  2   \n",
      "4      30       0               1                6                  1   \n",
      "...   ...     ...             ...              ...                ...   \n",
      "1495   48       0               2                3                  4   \n",
      "1496   27       1               2               10                  3   \n",
      "1497   24       1               1                1                  2   \n",
      "1498   48       0               2                4                  4   \n",
      "1499   34       1               2               11                  5   \n",
      "\n",
      "      DistanceFromCompany  InterviewScore  SkillScore  PersonalityScore  \\\n",
      "0               26.783828              48          78                91   \n",
      "1               25.862694              35          68                80   \n",
      "2                9.920805              20          67                13   \n",
      "3                6.407751              36          27                70   \n",
      "4               43.105343              23          52                85   \n",
      "...                   ...             ...         ...               ...   \n",
      "1495             9.183783              66           3                80   \n",
      "1496            14.847731              43          97                 7   \n",
      "1497             4.289911              31          91                58   \n",
      "1498            36.299263               9          37                44   \n",
      "1499            12.910472              63          40                26   \n",
      "\n",
      "      RecruitmentStrategy  \n",
      "0                       1  \n",
      "1                       2  \n",
      "2                       2  \n",
      "3                       3  \n",
      "4                       2  \n",
      "...                   ...  \n",
      "1495                    3  \n",
      "1496                    2  \n",
      "1497                    1  \n",
      "1498                    2  \n",
      "1499                    2  \n",
      "\n",
      "[1500 rows x 10 columns]\n"
     ]
    }
   ],
   "source": [
    "print(X)"
   ]
  },
  {
   "cell_type": "code",
   "execution_count": 21,
   "id": "cd4f446b-15e1-49c7-8743-90cffc7bd700",
   "metadata": {},
   "outputs": [
    {
     "name": "stdout",
     "output_type": "stream",
     "text": [
      "0       1\n",
      "1       1\n",
      "2       0\n",
      "3       0\n",
      "4       0\n",
      "       ..\n",
      "1495    1\n",
      "1496    0\n",
      "1497    1\n",
      "1498    1\n",
      "1499    1\n",
      "Name: HiringDecision, Length: 1500, dtype: int64\n"
     ]
    }
   ],
   "source": [
    "print(y)"
   ]
  },
  {
   "cell_type": "markdown",
   "id": "7102ea90-0ec3-4a7e-bc8b-3006475cca28",
   "metadata": {},
   "source": [
    "### Data Splitting"
   ]
  },
  {
   "cell_type": "code",
   "execution_count": 23,
   "id": "b3820ed3-2bac-40c5-afbc-825b405f2d69",
   "metadata": {},
   "outputs": [],
   "source": [
    "X_train, X_test, y_train, y_test = train_test_split(X, y, test_size = 0.2, random_state = 2)"
   ]
  },
  {
   "cell_type": "code",
   "execution_count": 24,
   "id": "bcc42997-ce5b-4318-8946-1dfbcfff3219",
   "metadata": {},
   "outputs": [
    {
     "name": "stdout",
     "output_type": "stream",
     "text": [
      "(1500, 10) (1200, 10) (300, 10)\n"
     ]
    }
   ],
   "source": [
    "print(X.shape, X_train.shape, X_test.shape)"
   ]
  },
  {
   "cell_type": "markdown",
   "id": "869cf6be-e010-499b-84d2-c8186333f39f",
   "metadata": {},
   "source": [
    "# Model Building"
   ]
  },
  {
   "cell_type": "markdown",
   "id": "fef7eb23-8c1a-4a0a-a8fe-aec757603d92",
   "metadata": {},
   "source": [
    "## Logistic Regression "
   ]
  },
  {
   "cell_type": "code",
   "execution_count": 25,
   "id": "f45d2a0b-b291-4f8e-9991-d7075c515d90",
   "metadata": {},
   "outputs": [],
   "source": [
    "from sklearn.linear_model import LogisticRegression"
   ]
  },
  {
   "cell_type": "code",
   "execution_count": 121,
   "id": "e6e88a5b-38dd-47aa-abc1-44ddf09d9dea",
   "metadata": {},
   "outputs": [],
   "source": [
    "lr_model = LogisticRegression()"
   ]
  },
  {
   "cell_type": "code",
   "execution_count": 122,
   "id": "2a13afce-d84e-4a13-95ac-57f1ef68993a",
   "metadata": {},
   "outputs": [
    {
     "name": "stderr",
     "output_type": "stream",
     "text": [
      "C:\\Users\\PC User\\anaconda3\\Lib\\site-packages\\sklearn\\linear_model\\_logistic.py:458: ConvergenceWarning: lbfgs failed to converge (status=1):\n",
      "STOP: TOTAL NO. of ITERATIONS REACHED LIMIT.\n",
      "\n",
      "Increase the number of iterations (max_iter) or scale the data as shown in:\n",
      "    https://scikit-learn.org/stable/modules/preprocessing.html\n",
      "Please also refer to the documentation for alternative solver options:\n",
      "    https://scikit-learn.org/stable/modules/linear_model.html#logistic-regression\n",
      "  n_iter_i = _check_optimize_result(\n"
     ]
    },
    {
     "data": {
      "text/html": [
       "<style>#sk-container-id-14 {color: black;background-color: white;}#sk-container-id-14 pre{padding: 0;}#sk-container-id-14 div.sk-toggleable {background-color: white;}#sk-container-id-14 label.sk-toggleable__label {cursor: pointer;display: block;width: 100%;margin-bottom: 0;padding: 0.3em;box-sizing: border-box;text-align: center;}#sk-container-id-14 label.sk-toggleable__label-arrow:before {content: \"▸\";float: left;margin-right: 0.25em;color: #696969;}#sk-container-id-14 label.sk-toggleable__label-arrow:hover:before {color: black;}#sk-container-id-14 div.sk-estimator:hover label.sk-toggleable__label-arrow:before {color: black;}#sk-container-id-14 div.sk-toggleable__content {max-height: 0;max-width: 0;overflow: hidden;text-align: left;background-color: #f0f8ff;}#sk-container-id-14 div.sk-toggleable__content pre {margin: 0.2em;color: black;border-radius: 0.25em;background-color: #f0f8ff;}#sk-container-id-14 input.sk-toggleable__control:checked~div.sk-toggleable__content {max-height: 200px;max-width: 100%;overflow: auto;}#sk-container-id-14 input.sk-toggleable__control:checked~label.sk-toggleable__label-arrow:before {content: \"▾\";}#sk-container-id-14 div.sk-estimator input.sk-toggleable__control:checked~label.sk-toggleable__label {background-color: #d4ebff;}#sk-container-id-14 div.sk-label input.sk-toggleable__control:checked~label.sk-toggleable__label {background-color: #d4ebff;}#sk-container-id-14 input.sk-hidden--visually {border: 0;clip: rect(1px 1px 1px 1px);clip: rect(1px, 1px, 1px, 1px);height: 1px;margin: -1px;overflow: hidden;padding: 0;position: absolute;width: 1px;}#sk-container-id-14 div.sk-estimator {font-family: monospace;background-color: #f0f8ff;border: 1px dotted black;border-radius: 0.25em;box-sizing: border-box;margin-bottom: 0.5em;}#sk-container-id-14 div.sk-estimator:hover {background-color: #d4ebff;}#sk-container-id-14 div.sk-parallel-item::after {content: \"\";width: 100%;border-bottom: 1px solid gray;flex-grow: 1;}#sk-container-id-14 div.sk-label:hover label.sk-toggleable__label {background-color: #d4ebff;}#sk-container-id-14 div.sk-serial::before {content: \"\";position: absolute;border-left: 1px solid gray;box-sizing: border-box;top: 0;bottom: 0;left: 50%;z-index: 0;}#sk-container-id-14 div.sk-serial {display: flex;flex-direction: column;align-items: center;background-color: white;padding-right: 0.2em;padding-left: 0.2em;position: relative;}#sk-container-id-14 div.sk-item {position: relative;z-index: 1;}#sk-container-id-14 div.sk-parallel {display: flex;align-items: stretch;justify-content: center;background-color: white;position: relative;}#sk-container-id-14 div.sk-item::before, #sk-container-id-14 div.sk-parallel-item::before {content: \"\";position: absolute;border-left: 1px solid gray;box-sizing: border-box;top: 0;bottom: 0;left: 50%;z-index: -1;}#sk-container-id-14 div.sk-parallel-item {display: flex;flex-direction: column;z-index: 1;position: relative;background-color: white;}#sk-container-id-14 div.sk-parallel-item:first-child::after {align-self: flex-end;width: 50%;}#sk-container-id-14 div.sk-parallel-item:last-child::after {align-self: flex-start;width: 50%;}#sk-container-id-14 div.sk-parallel-item:only-child::after {width: 0;}#sk-container-id-14 div.sk-dashed-wrapped {border: 1px dashed gray;margin: 0 0.4em 0.5em 0.4em;box-sizing: border-box;padding-bottom: 0.4em;background-color: white;}#sk-container-id-14 div.sk-label label {font-family: monospace;font-weight: bold;display: inline-block;line-height: 1.2em;}#sk-container-id-14 div.sk-label-container {text-align: center;}#sk-container-id-14 div.sk-container {/* jupyter's `normalize.less` sets `[hidden] { display: none; }` but bootstrap.min.css set `[hidden] { display: none !important; }` so we also need the `!important` here to be able to override the default hidden behavior on the sphinx rendered scikit-learn.org. See: https://github.com/scikit-learn/scikit-learn/issues/21755 */display: inline-block !important;position: relative;}#sk-container-id-14 div.sk-text-repr-fallback {display: none;}</style><div id=\"sk-container-id-14\" class=\"sk-top-container\"><div class=\"sk-text-repr-fallback\"><pre>LogisticRegression()</pre><b>In a Jupyter environment, please rerun this cell to show the HTML representation or trust the notebook. <br />On GitHub, the HTML representation is unable to render, please try loading this page with nbviewer.org.</b></div><div class=\"sk-container\" hidden><div class=\"sk-item\"><div class=\"sk-estimator sk-toggleable\"><input class=\"sk-toggleable__control sk-hidden--visually\" id=\"sk-estimator-id-14\" type=\"checkbox\" checked><label for=\"sk-estimator-id-14\" class=\"sk-toggleable__label sk-toggleable__label-arrow\">LogisticRegression</label><div class=\"sk-toggleable__content\"><pre>LogisticRegression()</pre></div></div></div></div></div>"
      ],
      "text/plain": [
       "LogisticRegression()"
      ]
     },
     "execution_count": 122,
     "metadata": {},
     "output_type": "execute_result"
    }
   ],
   "source": [
    "lr_model.fit(X_train, y_train)"
   ]
  },
  {
   "cell_type": "code",
   "execution_count": 123,
   "id": "76a4f239-c1a4-42c5-866a-67a23cc526bd",
   "metadata": {},
   "outputs": [],
   "source": [
    "lr_train_pred = lr_model.predict(X_train)"
   ]
  },
  {
   "cell_type": "markdown",
   "id": "4152020f-558c-46d3-aadd-9d1033fdcbcf",
   "metadata": {},
   "source": [
    "### Evaluate Model Performance"
   ]
  },
  {
   "cell_type": "code",
   "execution_count": 90,
   "id": "b61895eb-31cd-49cb-9dfe-fc5e7552969c",
   "metadata": {},
   "outputs": [],
   "source": [
    "from sklearn.metrics import accuracy_score, r2_score, mean_squared_error "
   ]
  },
  {
   "cell_type": "code",
   "execution_count": 124,
   "id": "ab584ed2-30f4-44ef-8158-255ebb59f281",
   "metadata": {},
   "outputs": [
    {
     "name": "stdout",
     "output_type": "stream",
     "text": [
      "0.8716666666666667\n"
     ]
    }
   ],
   "source": [
    "lr_train_accuracy = accuracy_score(lr_train_pred, y_train)\n",
    "print(lr_train_accuracy)"
   ]
  },
  {
   "cell_type": "code",
   "execution_count": 125,
   "id": "20ba5ce5-9d15-4d24-82ec-74059d230f65",
   "metadata": {},
   "outputs": [],
   "source": [
    "lr_test_pred = lr_model.predict(X_test)"
   ]
  },
  {
   "cell_type": "code",
   "execution_count": 126,
   "id": "072b0236-a3e2-4392-bdda-85e80b7f2f3c",
   "metadata": {},
   "outputs": [
    {
     "name": "stdout",
     "output_type": "stream",
     "text": [
      "0.84\n"
     ]
    }
   ],
   "source": [
    "lr_test_accuracy = accuracy_score(lr_test_pred, y_test)\n",
    "print(lr_test_accuracy)"
   ]
  },
  {
   "cell_type": "code",
   "execution_count": 127,
   "id": "f6c99949-cc69-416b-9787-f23c2bd1d0be",
   "metadata": {},
   "outputs": [
    {
     "name": "stdout",
     "output_type": "stream",
     "text": [
      "0.12833333333333333\n",
      "0.33436828019925746\n"
     ]
    }
   ],
   "source": [
    "lr_train_mse = mean_squared_error(lr_train_pred, y_train)\n",
    "print(lr_train_mse)\n",
    "\n",
    "lr_train_r2 = r2_score(lr_train_pred, y_train)\n",
    "print(lr_train_r2)"
   ]
  },
  {
   "cell_type": "code",
   "execution_count": 128,
   "id": "71eefd52-2895-49ef-b708-d7722c3ae8d0",
   "metadata": {},
   "outputs": [
    {
     "name": "stdout",
     "output_type": "stream",
     "text": [
      "0.16\n",
      "0.22813036020583188\n"
     ]
    }
   ],
   "source": [
    "lr_test_mse = mean_squared_error(lr_test_pred, y_test)\n",
    "print(lr_test_mse)\n",
    "\n",
    "lr_test_r2 = r2_score(lr_test_pred, y_test)\n",
    "print(lr_test_r2)"
   ]
  },
  {
   "cell_type": "code",
   "execution_count": 173,
   "id": "db6ca3e9-9057-464b-a85a-5e1fe57bea11",
   "metadata": {},
   "outputs": [
    {
     "data": {
      "text/html": [
       "<div>\n",
       "<style scoped>\n",
       "    .dataframe tbody tr th:only-of-type {\n",
       "        vertical-align: middle;\n",
       "    }\n",
       "\n",
       "    .dataframe tbody tr th {\n",
       "        vertical-align: top;\n",
       "    }\n",
       "\n",
       "    .dataframe thead th {\n",
       "        text-align: right;\n",
       "    }\n",
       "</style>\n",
       "<table border=\"1\" class=\"dataframe\">\n",
       "  <thead>\n",
       "    <tr style=\"text-align: right;\">\n",
       "      <th></th>\n",
       "      <th>Method</th>\n",
       "      <th>Training MSE</th>\n",
       "      <th>Test MSE</th>\n",
       "      <th>Training R2</th>\n",
       "      <th>Test R2</th>\n",
       "      <th>Training Accuracy Score</th>\n",
       "      <th>Test Accuracy Score</th>\n",
       "    </tr>\n",
       "  </thead>\n",
       "  <tbody>\n",
       "    <tr>\n",
       "      <th>0</th>\n",
       "      <td>Logistic Regression</td>\n",
       "      <td>0.128333</td>\n",
       "      <td>0.16</td>\n",
       "      <td>0.334368</td>\n",
       "      <td>0.22813</td>\n",
       "      <td>0.871667</td>\n",
       "      <td>0.84</td>\n",
       "    </tr>\n",
       "  </tbody>\n",
       "</table>\n",
       "</div>"
      ],
      "text/plain": [
       "                Method  Training MSE  Test MSE  Training R2  Test R2  \\\n",
       "0  Logistic Regression      0.128333      0.16     0.334368  0.22813   \n",
       "\n",
       "   Training Accuracy Score  Test Accuracy Score  \n",
       "0                 0.871667                 0.84  "
      ]
     },
     "execution_count": 173,
     "metadata": {},
     "output_type": "execute_result"
    }
   ],
   "source": [
    "lr = pd.DataFrame({\"Method\": ['Logistic Regression'] ,\"Training MSE\": [lr_train_mse], \"Test MSE\": [lr_test_mse],  \"Training R2\": [lr_train_r2], \"Test R2\":[lr_test_r2], \"Training Accuracy Score\":[lr_train_accuracy], \"Test Accuracy Score\": [lr_test_accuracy]}, \n",
    "                   columns = [\"Method\", \"Training MSE\", \"Test MSE\", \"Training R2\", \"Test R2\", \"Training Accuracy Score\", \"Test Accuracy Score\"])\n",
    "lr"
   ]
  },
  {
   "cell_type": "markdown",
   "id": "819b57ba-84bc-48f3-b70f-24d64352cf8c",
   "metadata": {},
   "source": [
    "## Random Forest Classifier"
   ]
  },
  {
   "cell_type": "code",
   "execution_count": 50,
   "id": "d4a0f69a-353f-495a-999f-bbf12dda0de6",
   "metadata": {},
   "outputs": [],
   "source": [
    "from sklearn.ensemble import RandomForestClassifier"
   ]
  },
  {
   "cell_type": "code",
   "execution_count": 130,
   "id": "f7fec281-70c4-4674-8130-b481d2c12c8a",
   "metadata": {},
   "outputs": [],
   "source": [
    "rfc_model = RandomForestClassifier(n_estimators = 100)"
   ]
  },
  {
   "cell_type": "code",
   "execution_count": 131,
   "id": "d50ce8a0-1de5-4af4-9c82-5e4e6ccec63f",
   "metadata": {},
   "outputs": [
    {
     "data": {
      "text/html": [
       "<style>#sk-container-id-15 {color: black;background-color: white;}#sk-container-id-15 pre{padding: 0;}#sk-container-id-15 div.sk-toggleable {background-color: white;}#sk-container-id-15 label.sk-toggleable__label {cursor: pointer;display: block;width: 100%;margin-bottom: 0;padding: 0.3em;box-sizing: border-box;text-align: center;}#sk-container-id-15 label.sk-toggleable__label-arrow:before {content: \"▸\";float: left;margin-right: 0.25em;color: #696969;}#sk-container-id-15 label.sk-toggleable__label-arrow:hover:before {color: black;}#sk-container-id-15 div.sk-estimator:hover label.sk-toggleable__label-arrow:before {color: black;}#sk-container-id-15 div.sk-toggleable__content {max-height: 0;max-width: 0;overflow: hidden;text-align: left;background-color: #f0f8ff;}#sk-container-id-15 div.sk-toggleable__content pre {margin: 0.2em;color: black;border-radius: 0.25em;background-color: #f0f8ff;}#sk-container-id-15 input.sk-toggleable__control:checked~div.sk-toggleable__content {max-height: 200px;max-width: 100%;overflow: auto;}#sk-container-id-15 input.sk-toggleable__control:checked~label.sk-toggleable__label-arrow:before {content: \"▾\";}#sk-container-id-15 div.sk-estimator input.sk-toggleable__control:checked~label.sk-toggleable__label {background-color: #d4ebff;}#sk-container-id-15 div.sk-label input.sk-toggleable__control:checked~label.sk-toggleable__label {background-color: #d4ebff;}#sk-container-id-15 input.sk-hidden--visually {border: 0;clip: rect(1px 1px 1px 1px);clip: rect(1px, 1px, 1px, 1px);height: 1px;margin: -1px;overflow: hidden;padding: 0;position: absolute;width: 1px;}#sk-container-id-15 div.sk-estimator {font-family: monospace;background-color: #f0f8ff;border: 1px dotted black;border-radius: 0.25em;box-sizing: border-box;margin-bottom: 0.5em;}#sk-container-id-15 div.sk-estimator:hover {background-color: #d4ebff;}#sk-container-id-15 div.sk-parallel-item::after {content: \"\";width: 100%;border-bottom: 1px solid gray;flex-grow: 1;}#sk-container-id-15 div.sk-label:hover label.sk-toggleable__label {background-color: #d4ebff;}#sk-container-id-15 div.sk-serial::before {content: \"\";position: absolute;border-left: 1px solid gray;box-sizing: border-box;top: 0;bottom: 0;left: 50%;z-index: 0;}#sk-container-id-15 div.sk-serial {display: flex;flex-direction: column;align-items: center;background-color: white;padding-right: 0.2em;padding-left: 0.2em;position: relative;}#sk-container-id-15 div.sk-item {position: relative;z-index: 1;}#sk-container-id-15 div.sk-parallel {display: flex;align-items: stretch;justify-content: center;background-color: white;position: relative;}#sk-container-id-15 div.sk-item::before, #sk-container-id-15 div.sk-parallel-item::before {content: \"\";position: absolute;border-left: 1px solid gray;box-sizing: border-box;top: 0;bottom: 0;left: 50%;z-index: -1;}#sk-container-id-15 div.sk-parallel-item {display: flex;flex-direction: column;z-index: 1;position: relative;background-color: white;}#sk-container-id-15 div.sk-parallel-item:first-child::after {align-self: flex-end;width: 50%;}#sk-container-id-15 div.sk-parallel-item:last-child::after {align-self: flex-start;width: 50%;}#sk-container-id-15 div.sk-parallel-item:only-child::after {width: 0;}#sk-container-id-15 div.sk-dashed-wrapped {border: 1px dashed gray;margin: 0 0.4em 0.5em 0.4em;box-sizing: border-box;padding-bottom: 0.4em;background-color: white;}#sk-container-id-15 div.sk-label label {font-family: monospace;font-weight: bold;display: inline-block;line-height: 1.2em;}#sk-container-id-15 div.sk-label-container {text-align: center;}#sk-container-id-15 div.sk-container {/* jupyter's `normalize.less` sets `[hidden] { display: none; }` but bootstrap.min.css set `[hidden] { display: none !important; }` so we also need the `!important` here to be able to override the default hidden behavior on the sphinx rendered scikit-learn.org. See: https://github.com/scikit-learn/scikit-learn/issues/21755 */display: inline-block !important;position: relative;}#sk-container-id-15 div.sk-text-repr-fallback {display: none;}</style><div id=\"sk-container-id-15\" class=\"sk-top-container\"><div class=\"sk-text-repr-fallback\"><pre>RandomForestClassifier()</pre><b>In a Jupyter environment, please rerun this cell to show the HTML representation or trust the notebook. <br />On GitHub, the HTML representation is unable to render, please try loading this page with nbviewer.org.</b></div><div class=\"sk-container\" hidden><div class=\"sk-item\"><div class=\"sk-estimator sk-toggleable\"><input class=\"sk-toggleable__control sk-hidden--visually\" id=\"sk-estimator-id-15\" type=\"checkbox\" checked><label for=\"sk-estimator-id-15\" class=\"sk-toggleable__label sk-toggleable__label-arrow\">RandomForestClassifier</label><div class=\"sk-toggleable__content\"><pre>RandomForestClassifier()</pre></div></div></div></div></div>"
      ],
      "text/plain": [
       "RandomForestClassifier()"
      ]
     },
     "execution_count": 131,
     "metadata": {},
     "output_type": "execute_result"
    }
   ],
   "source": [
    "rfc_model.fit(X_train, y_train)"
   ]
  },
  {
   "cell_type": "code",
   "execution_count": 132,
   "id": "4db586f2-d6d2-4fdd-b475-df875b18036b",
   "metadata": {},
   "outputs": [],
   "source": [
    "rfc_train_pred = rfc_model.predict(X_train)"
   ]
  },
  {
   "cell_type": "markdown",
   "id": "39d59c06-30a5-413f-9de5-db2879d54c86",
   "metadata": {},
   "source": [
    "### Evaluate Model Performance"
   ]
  },
  {
   "cell_type": "code",
   "execution_count": 133,
   "id": "168af329-e240-4447-a94f-9453f1fd8cf2",
   "metadata": {},
   "outputs": [
    {
     "name": "stdout",
     "output_type": "stream",
     "text": [
      "1.0\n"
     ]
    }
   ],
   "source": [
    "rfc_train_accuracy = accuracy_score(y_train, rfc_train_pred)\n",
    "print(rfc_train_accuracy)"
   ]
  },
  {
   "cell_type": "code",
   "execution_count": 134,
   "id": "a2118606-f408-41e0-967c-499d045ae5c5",
   "metadata": {},
   "outputs": [],
   "source": [
    "rfc_test_pred = rfc_model.predict(X_test)"
   ]
  },
  {
   "cell_type": "code",
   "execution_count": 135,
   "id": "0aabbfec-b3ec-40db-9ac2-d0c256a08a52",
   "metadata": {},
   "outputs": [
    {
     "name": "stdout",
     "output_type": "stream",
     "text": [
      "0.9166666666666666\n"
     ]
    }
   ],
   "source": [
    "rfc_test_accuracy = accuracy_score(y_test, rfc_test_pred)\n",
    "print(rfc_test_accuracy)"
   ]
  },
  {
   "cell_type": "code",
   "execution_count": 136,
   "id": "ad75311c-8b5e-41ef-8322-f23b3faf17cd",
   "metadata": {},
   "outputs": [
    {
     "name": "stdout",
     "output_type": "stream",
     "text": [
      "0.0\n",
      "1.0\n"
     ]
    }
   ],
   "source": [
    "rfc_train_mse = mean_squared_error(rfc_train_pred, y_train)\n",
    "print(rfc_train_mse)\n",
    "\n",
    "rfc_train_r2 = r2_score(rfc_train_pred, y_train)\n",
    "print(rfc_train_r2)"
   ]
  },
  {
   "cell_type": "code",
   "execution_count": 137,
   "id": "f70804ec-e8b7-4a3b-825e-a0003e5a425d",
   "metadata": {},
   "outputs": [
    {
     "name": "stdout",
     "output_type": "stream",
     "text": [
      "0.08333333333333333\n",
      "0.6056575003943425\n"
     ]
    }
   ],
   "source": [
    "rfc_test_mse = mean_squared_error(rfc_test_pred, y_test)\n",
    "print(rfc_test_mse)\n",
    "\n",
    "rfc_test_r2 = r2_score(rfc_test_pred, y_test)\n",
    "print(rfc_test_r2)"
   ]
  },
  {
   "cell_type": "code",
   "execution_count": 172,
   "id": "ab93ec82-2f06-4dd8-a033-1f2ff602b88e",
   "metadata": {},
   "outputs": [
    {
     "data": {
      "text/html": [
       "<div>\n",
       "<style scoped>\n",
       "    .dataframe tbody tr th:only-of-type {\n",
       "        vertical-align: middle;\n",
       "    }\n",
       "\n",
       "    .dataframe tbody tr th {\n",
       "        vertical-align: top;\n",
       "    }\n",
       "\n",
       "    .dataframe thead th {\n",
       "        text-align: right;\n",
       "    }\n",
       "</style>\n",
       "<table border=\"1\" class=\"dataframe\">\n",
       "  <thead>\n",
       "    <tr style=\"text-align: right;\">\n",
       "      <th></th>\n",
       "      <th>Method</th>\n",
       "      <th>Training MSE</th>\n",
       "      <th>Test MSE</th>\n",
       "      <th>Training R2</th>\n",
       "      <th>Test R2</th>\n",
       "      <th>Training Accuracy Score</th>\n",
       "      <th>Test Accuracy Score</th>\n",
       "    </tr>\n",
       "  </thead>\n",
       "  <tbody>\n",
       "    <tr>\n",
       "      <th>0</th>\n",
       "      <td>Random Forest</td>\n",
       "      <td>0.0</td>\n",
       "      <td>0.083333</td>\n",
       "      <td>1.0</td>\n",
       "      <td>0.605658</td>\n",
       "      <td>1.0</td>\n",
       "      <td>0.916667</td>\n",
       "    </tr>\n",
       "  </tbody>\n",
       "</table>\n",
       "</div>"
      ],
      "text/plain": [
       "          Method  Training MSE  Test MSE  Training R2   Test R2  \\\n",
       "0  Random Forest           0.0  0.083333          1.0  0.605658   \n",
       "\n",
       "   Training Accuracy Score  Test Accuracy Score  \n",
       "0                      1.0             0.916667  "
      ]
     },
     "execution_count": 172,
     "metadata": {},
     "output_type": "execute_result"
    }
   ],
   "source": [
    "rfc = pd.DataFrame({\"Method\": ['Random Forest'] ,\"Training MSE\": [rfc_train_mse], \"Test MSE\": [rfc_test_mse],  \"Training R2\": [rfc_train_r2], \"Test R2\":[rfc_test_r2], \"Training Accuracy Score\":[rfc_train_accuracy], \"Test Accuracy Score\": [rfc_test_accuracy]}, \n",
    "                   columns = [\"Method\", \"Training MSE\", \"Test MSE\", \"Training R2\", \"Test R2\", \"Training Accuracy Score\", \"Test Accuracy Score\"])\n",
    "rfc"
   ]
  },
  {
   "cell_type": "markdown",
   "id": "5b7b4ec5-9189-4bab-af0d-7859a8dd9307",
   "metadata": {},
   "source": [
    "## Decision Tree Classifier"
   ]
  },
  {
   "cell_type": "code",
   "execution_count": 77,
   "id": "60186c3c-ea3f-4622-97dc-d5d620c0cdbd",
   "metadata": {},
   "outputs": [],
   "source": [
    "from sklearn.tree import DecisionTreeClassifier"
   ]
  },
  {
   "cell_type": "code",
   "execution_count": 165,
   "id": "402df8f6-4e00-4f04-84d1-8453ce289e0d",
   "metadata": {},
   "outputs": [],
   "source": [
    "dtc_model = DecisionTreeClassifier()"
   ]
  },
  {
   "cell_type": "code",
   "execution_count": 166,
   "id": "aedffeac-9a03-4e00-9a0f-2d2b9580fdca",
   "metadata": {},
   "outputs": [
    {
     "data": {
      "text/html": [
       "<style>#sk-container-id-18 {color: black;background-color: white;}#sk-container-id-18 pre{padding: 0;}#sk-container-id-18 div.sk-toggleable {background-color: white;}#sk-container-id-18 label.sk-toggleable__label {cursor: pointer;display: block;width: 100%;margin-bottom: 0;padding: 0.3em;box-sizing: border-box;text-align: center;}#sk-container-id-18 label.sk-toggleable__label-arrow:before {content: \"▸\";float: left;margin-right: 0.25em;color: #696969;}#sk-container-id-18 label.sk-toggleable__label-arrow:hover:before {color: black;}#sk-container-id-18 div.sk-estimator:hover label.sk-toggleable__label-arrow:before {color: black;}#sk-container-id-18 div.sk-toggleable__content {max-height: 0;max-width: 0;overflow: hidden;text-align: left;background-color: #f0f8ff;}#sk-container-id-18 div.sk-toggleable__content pre {margin: 0.2em;color: black;border-radius: 0.25em;background-color: #f0f8ff;}#sk-container-id-18 input.sk-toggleable__control:checked~div.sk-toggleable__content {max-height: 200px;max-width: 100%;overflow: auto;}#sk-container-id-18 input.sk-toggleable__control:checked~label.sk-toggleable__label-arrow:before {content: \"▾\";}#sk-container-id-18 div.sk-estimator input.sk-toggleable__control:checked~label.sk-toggleable__label {background-color: #d4ebff;}#sk-container-id-18 div.sk-label input.sk-toggleable__control:checked~label.sk-toggleable__label {background-color: #d4ebff;}#sk-container-id-18 input.sk-hidden--visually {border: 0;clip: rect(1px 1px 1px 1px);clip: rect(1px, 1px, 1px, 1px);height: 1px;margin: -1px;overflow: hidden;padding: 0;position: absolute;width: 1px;}#sk-container-id-18 div.sk-estimator {font-family: monospace;background-color: #f0f8ff;border: 1px dotted black;border-radius: 0.25em;box-sizing: border-box;margin-bottom: 0.5em;}#sk-container-id-18 div.sk-estimator:hover {background-color: #d4ebff;}#sk-container-id-18 div.sk-parallel-item::after {content: \"\";width: 100%;border-bottom: 1px solid gray;flex-grow: 1;}#sk-container-id-18 div.sk-label:hover label.sk-toggleable__label {background-color: #d4ebff;}#sk-container-id-18 div.sk-serial::before {content: \"\";position: absolute;border-left: 1px solid gray;box-sizing: border-box;top: 0;bottom: 0;left: 50%;z-index: 0;}#sk-container-id-18 div.sk-serial {display: flex;flex-direction: column;align-items: center;background-color: white;padding-right: 0.2em;padding-left: 0.2em;position: relative;}#sk-container-id-18 div.sk-item {position: relative;z-index: 1;}#sk-container-id-18 div.sk-parallel {display: flex;align-items: stretch;justify-content: center;background-color: white;position: relative;}#sk-container-id-18 div.sk-item::before, #sk-container-id-18 div.sk-parallel-item::before {content: \"\";position: absolute;border-left: 1px solid gray;box-sizing: border-box;top: 0;bottom: 0;left: 50%;z-index: -1;}#sk-container-id-18 div.sk-parallel-item {display: flex;flex-direction: column;z-index: 1;position: relative;background-color: white;}#sk-container-id-18 div.sk-parallel-item:first-child::after {align-self: flex-end;width: 50%;}#sk-container-id-18 div.sk-parallel-item:last-child::after {align-self: flex-start;width: 50%;}#sk-container-id-18 div.sk-parallel-item:only-child::after {width: 0;}#sk-container-id-18 div.sk-dashed-wrapped {border: 1px dashed gray;margin: 0 0.4em 0.5em 0.4em;box-sizing: border-box;padding-bottom: 0.4em;background-color: white;}#sk-container-id-18 div.sk-label label {font-family: monospace;font-weight: bold;display: inline-block;line-height: 1.2em;}#sk-container-id-18 div.sk-label-container {text-align: center;}#sk-container-id-18 div.sk-container {/* jupyter's `normalize.less` sets `[hidden] { display: none; }` but bootstrap.min.css set `[hidden] { display: none !important; }` so we also need the `!important` here to be able to override the default hidden behavior on the sphinx rendered scikit-learn.org. See: https://github.com/scikit-learn/scikit-learn/issues/21755 */display: inline-block !important;position: relative;}#sk-container-id-18 div.sk-text-repr-fallback {display: none;}</style><div id=\"sk-container-id-18\" class=\"sk-top-container\"><div class=\"sk-text-repr-fallback\"><pre>DecisionTreeClassifier()</pre><b>In a Jupyter environment, please rerun this cell to show the HTML representation or trust the notebook. <br />On GitHub, the HTML representation is unable to render, please try loading this page with nbviewer.org.</b></div><div class=\"sk-container\" hidden><div class=\"sk-item\"><div class=\"sk-estimator sk-toggleable\"><input class=\"sk-toggleable__control sk-hidden--visually\" id=\"sk-estimator-id-18\" type=\"checkbox\" checked><label for=\"sk-estimator-id-18\" class=\"sk-toggleable__label sk-toggleable__label-arrow\">DecisionTreeClassifier</label><div class=\"sk-toggleable__content\"><pre>DecisionTreeClassifier()</pre></div></div></div></div></div>"
      ],
      "text/plain": [
       "DecisionTreeClassifier()"
      ]
     },
     "execution_count": 166,
     "metadata": {},
     "output_type": "execute_result"
    }
   ],
   "source": [
    "dtc_model.fit(X_train, y_train)"
   ]
  },
  {
   "cell_type": "markdown",
   "id": "8e6250d9-ce54-4040-b61f-28ce0ddf5ee7",
   "metadata": {},
   "source": [
    "### Evaluate Model Performance"
   ]
  },
  {
   "cell_type": "code",
   "execution_count": 167,
   "id": "2b9a9a23-4a1b-4bb0-b616-6b5b74746250",
   "metadata": {},
   "outputs": [
    {
     "name": "stdout",
     "output_type": "stream",
     "text": [
      "1.0\n"
     ]
    }
   ],
   "source": [
    "dtc_train_pred = dtc_model.predict(X_train)\n",
    "dtc_train_accuracy = accuracy_score(y_train, dtc_train_pred)\n",
    "print(dtc_train_accuracy)"
   ]
  },
  {
   "cell_type": "code",
   "execution_count": 168,
   "id": "e5f04c18-c9b6-4f06-99fa-4371192427ca",
   "metadata": {},
   "outputs": [
    {
     "name": "stdout",
     "output_type": "stream",
     "text": [
      "0.87\n"
     ]
    }
   ],
   "source": [
    "dtc_test_pred = dtc_model.predict(X_test)\n",
    "dtc_test_accuracy = accuracy_score(y_test, dtc_test_pred)\n",
    "print(dtc_test_accuracy)"
   ]
  },
  {
   "cell_type": "code",
   "execution_count": 169,
   "id": "0f44ce3f-eb30-4345-8652-8c6617baab9e",
   "metadata": {},
   "outputs": [
    {
     "name": "stdout",
     "output_type": "stream",
     "text": [
      "0.0\n",
      "1.0\n"
     ]
    }
   ],
   "source": [
    "dtc_train_mse = mean_squared_error(dtc_train_pred, y_train)\n",
    "print(dtc_train_mse)\n",
    "\n",
    "dtc_train_r2 = r2_score(dtc_train_pred, y_train)\n",
    "print(dtc_train_r2)"
   ]
  },
  {
   "cell_type": "code",
   "execution_count": 170,
   "id": "bc099b57-f4cc-44ac-af20-d2bf71143d2d",
   "metadata": {},
   "outputs": [
    {
     "name": "stdout",
     "output_type": "stream",
     "text": [
      "0.13333333333333333\n",
      "0.4120307553143373\n"
     ]
    }
   ],
   "source": [
    "dtc_test_mse = mean_squared_error(dtc_test_pred, y_test)\n",
    "print(drc_test_mse)\n",
    "\n",
    "dtc_test_r2 = r2_score(dtc_test_pred, y_test)\n",
    "print(dtc_test_r2)"
   ]
  },
  {
   "cell_type": "code",
   "execution_count": 171,
   "id": "9d8acb67-0e7e-4235-bee6-bcce5cf68001",
   "metadata": {},
   "outputs": [
    {
     "data": {
      "text/html": [
       "<div>\n",
       "<style scoped>\n",
       "    .dataframe tbody tr th:only-of-type {\n",
       "        vertical-align: middle;\n",
       "    }\n",
       "\n",
       "    .dataframe tbody tr th {\n",
       "        vertical-align: top;\n",
       "    }\n",
       "\n",
       "    .dataframe thead th {\n",
       "        text-align: right;\n",
       "    }\n",
       "</style>\n",
       "<table border=\"1\" class=\"dataframe\">\n",
       "  <thead>\n",
       "    <tr style=\"text-align: right;\">\n",
       "      <th></th>\n",
       "      <th>Method</th>\n",
       "      <th>Training MSE</th>\n",
       "      <th>Test MSE</th>\n",
       "      <th>Training R2</th>\n",
       "      <th>Test R2</th>\n",
       "      <th>Training Accuracy Score</th>\n",
       "      <th>Test Accuracy Score</th>\n",
       "    </tr>\n",
       "  </thead>\n",
       "  <tbody>\n",
       "    <tr>\n",
       "      <th>0</th>\n",
       "      <td>Decision Tree</td>\n",
       "      <td>0.0</td>\n",
       "      <td>0.13</td>\n",
       "      <td>1.0</td>\n",
       "      <td>0.412031</td>\n",
       "      <td>1.0</td>\n",
       "      <td>0.87</td>\n",
       "    </tr>\n",
       "  </tbody>\n",
       "</table>\n",
       "</div>"
      ],
      "text/plain": [
       "          Method  Training MSE  Test MSE  Training R2   Test R2  \\\n",
       "0  Decision Tree           0.0      0.13          1.0  0.412031   \n",
       "\n",
       "   Training Accuracy Score  Test Accuracy Score  \n",
       "0                      1.0                 0.87  "
      ]
     },
     "execution_count": 171,
     "metadata": {},
     "output_type": "execute_result"
    }
   ],
   "source": [
    "dtc = pd.DataFrame({\"Method\": ['Decision Tree'] ,\"Training MSE\": [dtc_train_mse], \"Test MSE\": [dtc_test_mse],  \"Training R2\": [dtc_train_r2], \"Test R2\":[dtc_test_r2], \"Training Accuracy Score\":[dtc_train_accuracy], \"Test Accuracy Score\": [dtc_test_accuracy]}, \n",
    "                   columns = [\"Method\", \"Training MSE\", \"Test MSE\", \"Training R2\", \"Test R2\", \"Training Accuracy Score\", \"Test Accuracy Score\"])\n",
    "dtc"
   ]
  },
  {
   "cell_type": "markdown",
   "id": "3edebb93-f5b5-4d72-81d2-b0c72bb5eca3",
   "metadata": {},
   "source": [
    "## Support Vector Machines"
   ]
  },
  {
   "cell_type": "code",
   "execution_count": 150,
   "id": "9d549cee-bc19-48ae-8b4c-2ebe2f5d46ec",
   "metadata": {},
   "outputs": [],
   "source": [
    "from sklearn import svm"
   ]
  },
  {
   "cell_type": "code",
   "execution_count": 151,
   "id": "25418857-883b-4531-92a3-5162129a72c3",
   "metadata": {},
   "outputs": [],
   "source": [
    "svm_model = svm.SVC(kernel = 'linear')"
   ]
  },
  {
   "cell_type": "code",
   "execution_count": 152,
   "id": "589b2cb9-6bfd-42e7-be1d-6552e9c276bb",
   "metadata": {},
   "outputs": [
    {
     "data": {
      "text/html": [
       "<style>#sk-container-id-17 {color: black;background-color: white;}#sk-container-id-17 pre{padding: 0;}#sk-container-id-17 div.sk-toggleable {background-color: white;}#sk-container-id-17 label.sk-toggleable__label {cursor: pointer;display: block;width: 100%;margin-bottom: 0;padding: 0.3em;box-sizing: border-box;text-align: center;}#sk-container-id-17 label.sk-toggleable__label-arrow:before {content: \"▸\";float: left;margin-right: 0.25em;color: #696969;}#sk-container-id-17 label.sk-toggleable__label-arrow:hover:before {color: black;}#sk-container-id-17 div.sk-estimator:hover label.sk-toggleable__label-arrow:before {color: black;}#sk-container-id-17 div.sk-toggleable__content {max-height: 0;max-width: 0;overflow: hidden;text-align: left;background-color: #f0f8ff;}#sk-container-id-17 div.sk-toggleable__content pre {margin: 0.2em;color: black;border-radius: 0.25em;background-color: #f0f8ff;}#sk-container-id-17 input.sk-toggleable__control:checked~div.sk-toggleable__content {max-height: 200px;max-width: 100%;overflow: auto;}#sk-container-id-17 input.sk-toggleable__control:checked~label.sk-toggleable__label-arrow:before {content: \"▾\";}#sk-container-id-17 div.sk-estimator input.sk-toggleable__control:checked~label.sk-toggleable__label {background-color: #d4ebff;}#sk-container-id-17 div.sk-label input.sk-toggleable__control:checked~label.sk-toggleable__label {background-color: #d4ebff;}#sk-container-id-17 input.sk-hidden--visually {border: 0;clip: rect(1px 1px 1px 1px);clip: rect(1px, 1px, 1px, 1px);height: 1px;margin: -1px;overflow: hidden;padding: 0;position: absolute;width: 1px;}#sk-container-id-17 div.sk-estimator {font-family: monospace;background-color: #f0f8ff;border: 1px dotted black;border-radius: 0.25em;box-sizing: border-box;margin-bottom: 0.5em;}#sk-container-id-17 div.sk-estimator:hover {background-color: #d4ebff;}#sk-container-id-17 div.sk-parallel-item::after {content: \"\";width: 100%;border-bottom: 1px solid gray;flex-grow: 1;}#sk-container-id-17 div.sk-label:hover label.sk-toggleable__label {background-color: #d4ebff;}#sk-container-id-17 div.sk-serial::before {content: \"\";position: absolute;border-left: 1px solid gray;box-sizing: border-box;top: 0;bottom: 0;left: 50%;z-index: 0;}#sk-container-id-17 div.sk-serial {display: flex;flex-direction: column;align-items: center;background-color: white;padding-right: 0.2em;padding-left: 0.2em;position: relative;}#sk-container-id-17 div.sk-item {position: relative;z-index: 1;}#sk-container-id-17 div.sk-parallel {display: flex;align-items: stretch;justify-content: center;background-color: white;position: relative;}#sk-container-id-17 div.sk-item::before, #sk-container-id-17 div.sk-parallel-item::before {content: \"\";position: absolute;border-left: 1px solid gray;box-sizing: border-box;top: 0;bottom: 0;left: 50%;z-index: -1;}#sk-container-id-17 div.sk-parallel-item {display: flex;flex-direction: column;z-index: 1;position: relative;background-color: white;}#sk-container-id-17 div.sk-parallel-item:first-child::after {align-self: flex-end;width: 50%;}#sk-container-id-17 div.sk-parallel-item:last-child::after {align-self: flex-start;width: 50%;}#sk-container-id-17 div.sk-parallel-item:only-child::after {width: 0;}#sk-container-id-17 div.sk-dashed-wrapped {border: 1px dashed gray;margin: 0 0.4em 0.5em 0.4em;box-sizing: border-box;padding-bottom: 0.4em;background-color: white;}#sk-container-id-17 div.sk-label label {font-family: monospace;font-weight: bold;display: inline-block;line-height: 1.2em;}#sk-container-id-17 div.sk-label-container {text-align: center;}#sk-container-id-17 div.sk-container {/* jupyter's `normalize.less` sets `[hidden] { display: none; }` but bootstrap.min.css set `[hidden] { display: none !important; }` so we also need the `!important` here to be able to override the default hidden behavior on the sphinx rendered scikit-learn.org. See: https://github.com/scikit-learn/scikit-learn/issues/21755 */display: inline-block !important;position: relative;}#sk-container-id-17 div.sk-text-repr-fallback {display: none;}</style><div id=\"sk-container-id-17\" class=\"sk-top-container\"><div class=\"sk-text-repr-fallback\"><pre>SVC(kernel=&#x27;linear&#x27;)</pre><b>In a Jupyter environment, please rerun this cell to show the HTML representation or trust the notebook. <br />On GitHub, the HTML representation is unable to render, please try loading this page with nbviewer.org.</b></div><div class=\"sk-container\" hidden><div class=\"sk-item\"><div class=\"sk-estimator sk-toggleable\"><input class=\"sk-toggleable__control sk-hidden--visually\" id=\"sk-estimator-id-17\" type=\"checkbox\" checked><label for=\"sk-estimator-id-17\" class=\"sk-toggleable__label sk-toggleable__label-arrow\">SVC</label><div class=\"sk-toggleable__content\"><pre>SVC(kernel=&#x27;linear&#x27;)</pre></div></div></div></div></div>"
      ],
      "text/plain": [
       "SVC(kernel='linear')"
      ]
     },
     "execution_count": 152,
     "metadata": {},
     "output_type": "execute_result"
    }
   ],
   "source": [
    "svm_model.fit(X_train, y_train)"
   ]
  },
  {
   "cell_type": "markdown",
   "id": "ce6c3a62-2988-4dae-b9b2-e6df3da84d6a",
   "metadata": {},
   "source": [
    "### Evaluate Model Performance"
   ]
  },
  {
   "cell_type": "code",
   "execution_count": 153,
   "id": "71d52ce5-54c0-4c7a-995e-782a6151ffd2",
   "metadata": {},
   "outputs": [
    {
     "name": "stdout",
     "output_type": "stream",
     "text": [
      "0.8708333333333333\n"
     ]
    }
   ],
   "source": [
    "svm_train_pred = svm_model.predict(X_train)\n",
    "svm_train_accuracy = accuracy_score(y_train, svm_train_pred)\n",
    "print(svm_train_accuracy)"
   ]
  },
  {
   "cell_type": "code",
   "execution_count": 154,
   "id": "1402dc51-174c-47aa-8b9b-0ee7123b7039",
   "metadata": {},
   "outputs": [
    {
     "name": "stdout",
     "output_type": "stream",
     "text": [
      "0.8633333333333333\n"
     ]
    }
   ],
   "source": [
    "svm_test_pred = svm_model.predict(X_test)\n",
    "svm_test_accuracy = accuracy_score(y_test, svm_test_pred)\n",
    "print(svm_test_accuracy)"
   ]
  },
  {
   "cell_type": "code",
   "execution_count": 155,
   "id": "223fbefe-d77f-4c59-b553-24fcaa633534",
   "metadata": {},
   "outputs": [
    {
     "name": "stdout",
     "output_type": "stream",
     "text": [
      "0.12916666666666668\n",
      "0.33415430437023896\n"
     ]
    }
   ],
   "source": [
    "svm_train_mse = mean_squared_error(svm_train_pred, y_train)\n",
    "print(svm_train_mse)\n",
    "\n",
    "svm_train_r2 = r2_score(svm_train_pred, y_train)\n",
    "print(svm_train_r2)"
   ]
  },
  {
   "cell_type": "code",
   "execution_count": 156,
   "id": "43944572-5c1c-49cd-9048-a22060ee1594",
   "metadata": {},
   "outputs": [
    {
     "name": "stdout",
     "output_type": "stream",
     "text": [
      "0.13666666666666666\n",
      "0.3269493844049246\n"
     ]
    }
   ],
   "source": [
    "svm_test_mse = mean_squared_error(svm_test_pred, y_test)\n",
    "print(svm_test_mse)\n",
    "\n",
    "svm_test_r2 = r2_score(svm_test_pred, y_test)\n",
    "print(svm_test_r2)"
   ]
  },
  {
   "cell_type": "code",
   "execution_count": 176,
   "id": "7c45f90c-e636-4cf9-b994-46a84f19cbbc",
   "metadata": {},
   "outputs": [
    {
     "data": {
      "text/html": [
       "<div>\n",
       "<style scoped>\n",
       "    .dataframe tbody tr th:only-of-type {\n",
       "        vertical-align: middle;\n",
       "    }\n",
       "\n",
       "    .dataframe tbody tr th {\n",
       "        vertical-align: top;\n",
       "    }\n",
       "\n",
       "    .dataframe thead th {\n",
       "        text-align: right;\n",
       "    }\n",
       "</style>\n",
       "<table border=\"1\" class=\"dataframe\">\n",
       "  <thead>\n",
       "    <tr style=\"text-align: right;\">\n",
       "      <th></th>\n",
       "      <th>Method</th>\n",
       "      <th>Training MSE</th>\n",
       "      <th>Test MSE</th>\n",
       "      <th>Training R2</th>\n",
       "      <th>Test R2</th>\n",
       "      <th>Training Accuracy Score</th>\n",
       "      <th>Test Accuracy Score</th>\n",
       "    </tr>\n",
       "  </thead>\n",
       "  <tbody>\n",
       "    <tr>\n",
       "      <th>0</th>\n",
       "      <td>Support Vector Machine</td>\n",
       "      <td>0.129167</td>\n",
       "      <td>0.136667</td>\n",
       "      <td>0.334154</td>\n",
       "      <td>0.326949</td>\n",
       "      <td>0.870833</td>\n",
       "      <td>0.863333</td>\n",
       "    </tr>\n",
       "  </tbody>\n",
       "</table>\n",
       "</div>"
      ],
      "text/plain": [
       "                   Method  Training MSE  Test MSE  Training R2   Test R2  \\\n",
       "0  Support Vector Machine      0.129167  0.136667     0.334154  0.326949   \n",
       "\n",
       "   Training Accuracy Score  Test Accuracy Score  \n",
       "0                 0.870833             0.863333  "
      ]
     },
     "execution_count": 176,
     "metadata": {},
     "output_type": "execute_result"
    }
   ],
   "source": [
    "svm = pd.DataFrame({\"Method\": ['Support Vector Machine'] ,\"Training MSE\": [svm_train_mse], \"Test MSE\": [svm_test_mse],  \"Training R2\": [svm_train_r2], \"Test R2\":[svm_test_r2], \"Training Accuracy Score\":[svm_train_accuracy], \"Test Accuracy Score\": [svm_test_accuracy]}, \n",
    "                   columns = [\"Method\", \"Training MSE\", \"Test MSE\", \"Training R2\", \"Test R2\", \"Training Accuracy Score\", \"Test Accuracy Score\"])\n",
    "svm"
   ]
  },
  {
   "cell_type": "markdown",
   "id": "1aaaac8c-70ab-4592-825a-c7b26c78245b",
   "metadata": {},
   "source": [
    "# Model Comparison"
   ]
  },
  {
   "cell_type": "code",
   "execution_count": 177,
   "id": "17913601-7671-4275-a354-b525ca73f098",
   "metadata": {},
   "outputs": [
    {
     "data": {
      "text/html": [
       "<div>\n",
       "<style scoped>\n",
       "    .dataframe tbody tr th:only-of-type {\n",
       "        vertical-align: middle;\n",
       "    }\n",
       "\n",
       "    .dataframe tbody tr th {\n",
       "        vertical-align: top;\n",
       "    }\n",
       "\n",
       "    .dataframe thead th {\n",
       "        text-align: right;\n",
       "    }\n",
       "</style>\n",
       "<table border=\"1\" class=\"dataframe\">\n",
       "  <thead>\n",
       "    <tr style=\"text-align: right;\">\n",
       "      <th></th>\n",
       "      <th>Method</th>\n",
       "      <th>Training MSE</th>\n",
       "      <th>Test MSE</th>\n",
       "      <th>Training R2</th>\n",
       "      <th>Test R2</th>\n",
       "      <th>Training Accuracy Score</th>\n",
       "      <th>Test Accuracy Score</th>\n",
       "    </tr>\n",
       "  </thead>\n",
       "  <tbody>\n",
       "    <tr>\n",
       "      <th>0</th>\n",
       "      <td>Logistic Regression</td>\n",
       "      <td>0.128333</td>\n",
       "      <td>0.160000</td>\n",
       "      <td>0.334368</td>\n",
       "      <td>0.228130</td>\n",
       "      <td>0.871667</td>\n",
       "      <td>0.840000</td>\n",
       "    </tr>\n",
       "    <tr>\n",
       "      <th>0</th>\n",
       "      <td>Random Forest</td>\n",
       "      <td>0.000000</td>\n",
       "      <td>0.083333</td>\n",
       "      <td>1.000000</td>\n",
       "      <td>0.605658</td>\n",
       "      <td>1.000000</td>\n",
       "      <td>0.916667</td>\n",
       "    </tr>\n",
       "    <tr>\n",
       "      <th>0</th>\n",
       "      <td>Decision Tree</td>\n",
       "      <td>0.000000</td>\n",
       "      <td>0.130000</td>\n",
       "      <td>1.000000</td>\n",
       "      <td>0.412031</td>\n",
       "      <td>1.000000</td>\n",
       "      <td>0.870000</td>\n",
       "    </tr>\n",
       "    <tr>\n",
       "      <th>0</th>\n",
       "      <td>Support Vector Machine</td>\n",
       "      <td>0.129167</td>\n",
       "      <td>0.136667</td>\n",
       "      <td>0.334154</td>\n",
       "      <td>0.326949</td>\n",
       "      <td>0.870833</td>\n",
       "      <td>0.863333</td>\n",
       "    </tr>\n",
       "  </tbody>\n",
       "</table>\n",
       "</div>"
      ],
      "text/plain": [
       "                   Method  Training MSE  Test MSE  Training R2   Test R2  \\\n",
       "0     Logistic Regression      0.128333  0.160000     0.334368  0.228130   \n",
       "0           Random Forest      0.000000  0.083333     1.000000  0.605658   \n",
       "0           Decision Tree      0.000000  0.130000     1.000000  0.412031   \n",
       "0  Support Vector Machine      0.129167  0.136667     0.334154  0.326949   \n",
       "\n",
       "   Training Accuracy Score  Test Accuracy Score  \n",
       "0                 0.871667             0.840000  \n",
       "0                 1.000000             0.916667  \n",
       "0                 1.000000             0.870000  \n",
       "0                 0.870833             0.863333  "
      ]
     },
     "execution_count": 177,
     "metadata": {},
     "output_type": "execute_result"
    }
   ],
   "source": [
    "models = pd.concat([lr, rfc, dtc, svm], axis = 0)\n",
    "models"
   ]
  },
  {
   "cell_type": "code",
   "execution_count": 180,
   "id": "7f607123-a426-4e8d-83b4-33adcf0ed02c",
   "metadata": {},
   "outputs": [
    {
     "data": {
      "text/html": [
       "<div>\n",
       "<style scoped>\n",
       "    .dataframe tbody tr th:only-of-type {\n",
       "        vertical-align: middle;\n",
       "    }\n",
       "\n",
       "    .dataframe tbody tr th {\n",
       "        vertical-align: top;\n",
       "    }\n",
       "\n",
       "    .dataframe thead th {\n",
       "        text-align: right;\n",
       "    }\n",
       "</style>\n",
       "<table border=\"1\" class=\"dataframe\">\n",
       "  <thead>\n",
       "    <tr style=\"text-align: right;\">\n",
       "      <th></th>\n",
       "      <th>Method</th>\n",
       "      <th>Training MSE</th>\n",
       "      <th>Test MSE</th>\n",
       "      <th>Training R2</th>\n",
       "      <th>Test R2</th>\n",
       "      <th>Training Accuracy Score</th>\n",
       "      <th>Test Accuracy Score</th>\n",
       "    </tr>\n",
       "  </thead>\n",
       "  <tbody>\n",
       "    <tr>\n",
       "      <th>0</th>\n",
       "      <td>Logistic Regression</td>\n",
       "      <td>0.128333</td>\n",
       "      <td>0.160000</td>\n",
       "      <td>0.334368</td>\n",
       "      <td>0.228130</td>\n",
       "      <td>0.871667</td>\n",
       "      <td>0.840000</td>\n",
       "    </tr>\n",
       "    <tr>\n",
       "      <th>1</th>\n",
       "      <td>Random Forest</td>\n",
       "      <td>0.000000</td>\n",
       "      <td>0.083333</td>\n",
       "      <td>1.000000</td>\n",
       "      <td>0.605658</td>\n",
       "      <td>1.000000</td>\n",
       "      <td>0.916667</td>\n",
       "    </tr>\n",
       "    <tr>\n",
       "      <th>2</th>\n",
       "      <td>Decision Tree</td>\n",
       "      <td>0.000000</td>\n",
       "      <td>0.130000</td>\n",
       "      <td>1.000000</td>\n",
       "      <td>0.412031</td>\n",
       "      <td>1.000000</td>\n",
       "      <td>0.870000</td>\n",
       "    </tr>\n",
       "    <tr>\n",
       "      <th>3</th>\n",
       "      <td>Support Vector Machine</td>\n",
       "      <td>0.129167</td>\n",
       "      <td>0.136667</td>\n",
       "      <td>0.334154</td>\n",
       "      <td>0.326949</td>\n",
       "      <td>0.870833</td>\n",
       "      <td>0.863333</td>\n",
       "    </tr>\n",
       "  </tbody>\n",
       "</table>\n",
       "</div>"
      ],
      "text/plain": [
       "                   Method  Training MSE  Test MSE  Training R2   Test R2  \\\n",
       "0     Logistic Regression      0.128333  0.160000     0.334368  0.228130   \n",
       "1           Random Forest      0.000000  0.083333     1.000000  0.605658   \n",
       "2           Decision Tree      0.000000  0.130000     1.000000  0.412031   \n",
       "3  Support Vector Machine      0.129167  0.136667     0.334154  0.326949   \n",
       "\n",
       "   Training Accuracy Score  Test Accuracy Score  \n",
       "0                 0.871667             0.840000  \n",
       "1                 1.000000             0.916667  \n",
       "2                 1.000000             0.870000  \n",
       "3                 0.870833             0.863333  "
      ]
     },
     "execution_count": 180,
     "metadata": {},
     "output_type": "execute_result"
    }
   ],
   "source": [
    "models.reset_index(drop=True)"
   ]
  },
  {
   "cell_type": "code",
   "execution_count": null,
   "id": "3337c705-ee3d-4685-b12a-1f6ce0be6a5f",
   "metadata": {},
   "outputs": [],
   "source": []
  }
 ],
 "metadata": {
  "kernelspec": {
   "display_name": "Python 3 (ipykernel)",
   "language": "python",
   "name": "python3"
  },
  "language_info": {
   "codemirror_mode": {
    "name": "ipython",
    "version": 3
   },
   "file_extension": ".py",
   "mimetype": "text/x-python",
   "name": "python",
   "nbconvert_exporter": "python",
   "pygments_lexer": "ipython3",
   "version": "3.11.7"
  }
 },
 "nbformat": 4,
 "nbformat_minor": 5
}
